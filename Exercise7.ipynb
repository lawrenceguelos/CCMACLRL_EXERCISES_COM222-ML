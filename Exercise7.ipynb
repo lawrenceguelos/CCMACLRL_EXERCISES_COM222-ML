{
  "nbformat": 4,
  "nbformat_minor": 0,
  "metadata": {
    "colab": {
      "provenance": [],
      "include_colab_link": true
    },
    "kernelspec": {
      "name": "python3",
      "display_name": "Python 3"
    },
    "language_info": {
      "name": "python"
    }
  },
  "cells": [
    {
      "cell_type": "markdown",
      "metadata": {
        "id": "view-in-github",
        "colab_type": "text"
      },
      "source": [
        "<a href=\"https://colab.research.google.com/github/lawrenceguelos/CCMACLRL_EXERCISES_COM222-ML/blob/main/Exercise7.ipynb\" target=\"_parent\"><img src=\"https://colab.research.google.com/assets/colab-badge.svg\" alt=\"Open In Colab\"/></a>"
      ]
    },
    {
      "cell_type": "markdown",
      "source": [
        "# Exercise 7: Hate Speech Classification using Multinomial Naive Bayes\n",
        "\n",
        "Instructions:\n",
        "- You do not need to split your data. Use the training, validation and test sets provided below.\n",
        "- Use Multinomial Naive Bayes to train a model that can classify if a sentence is a hate speech or non-hate speech\n",
        "- A sentence with a label of zero (0) is classified as non-hate speech\n",
        "- A sentence with a label of one (1) is classified as a hate speech\n",
        "\n",
        "Apply text pre-processing techniques such as\n",
        "- Converting to lowercase\n",
        "- Stop word Removal\n",
        "- Removal of digits, special characters\n",
        "- Stemming or Lemmatization but not both\n",
        "- Count Vectorizer or TF-IDF Vectorizer but not both\n",
        "\n",
        "Evaluate your model by:\n",
        "- Providing input by yourself\n",
        "- Creating a Confusion Matrix\n",
        "- Calculating the Accuracy, Precision, Recall and F1-Score"
      ],
      "metadata": {
        "id": "2GaQuj0Ihf9s"
      }
    },
    {
      "cell_type": "code",
      "execution_count": 216,
      "metadata": {
        "id": "k7PqvnUChZy6",
        "colab": {
          "base_uri": "https://localhost:8080/"
        },
        "outputId": "3e1fa203-50da-42dc-9e1f-c77fd3927a0c"
      },
      "outputs": [
        {
          "output_type": "stream",
          "name": "stderr",
          "text": [
            "[nltk_data] Downloading package punkt to /root/nltk_data...\n",
            "[nltk_data]   Package punkt is already up-to-date!\n",
            "[nltk_data] Downloading package wordnet to /root/nltk_data...\n",
            "[nltk_data]   Package wordnet is already up-to-date!\n",
            "[nltk_data] Downloading package stopwords to /root/nltk_data...\n",
            "[nltk_data]   Package stopwords is already up-to-date!\n"
          ]
        },
        {
          "output_type": "execute_result",
          "data": {
            "text/plain": [
              "True"
            ]
          },
          "metadata": {},
          "execution_count": 216
        }
      ],
      "source": [
        "import numpy as np\n",
        "import matplotlib.pyplot as plt\n",
        "import pandas as pd\n",
        "import nltk\n",
        "import seaborn as sns\n",
        "import re\n",
        "import os, types\n",
        "\n",
        "from sklearn.feature_extraction.text import CountVectorizer, TfidfVectorizer\n",
        "from sklearn.metrics import roc_auc_score, roc_curve, confusion_matrix, precision_score, recall_score, accuracy_score, balanced_accuracy_score, ConfusionMatrixDisplay\n",
        "from sklearn.model_selection import train_test_split\n",
        "from sklearn.naive_bayes import MultinomialNB\n",
        "\n",
        "from nltk.stem import WordNetLemmatizer\n",
        "from nltk.stem import PorterStemmer\n",
        "from nltk.tokenize import word_tokenize\n",
        "from nltk.corpus import stopwords\n",
        "\n",
        "nltk.download(\"punkt\")\n",
        "nltk.download('wordnet')\n",
        "nltk.download('stopwords')"
      ]
    },
    {
      "cell_type": "code",
      "source": [
        "splits = {'train': 'unique_train_dataset.csv', 'validation': 'unique_validation_dataset.csv', 'test': 'unique_test_dataset.csv'}"
      ],
      "metadata": {
        "id": "rJNoJf2gkaou"
      },
      "execution_count": 217,
      "outputs": []
    },
    {
      "cell_type": "markdown",
      "source": [
        "**Training Set**\n",
        "\n",
        "Use this to train your model"
      ],
      "metadata": {
        "id": "LszdWP_3jN7z"
      }
    },
    {
      "cell_type": "markdown",
      "source": [],
      "metadata": {
        "id": "Ca4yUXe-1K9j"
      }
    },
    {
      "cell_type": "code",
      "source": [
        "df_train = pd.read_csv(\"hf://datasets/mapsoriano/2016_2022_hate_speech_filipino/\" + splits[\"train\"])"
      ],
      "metadata": {
        "id": "WMeIHIHWlR3-"
      },
      "execution_count": 218,
      "outputs": []
    },
    {
      "cell_type": "code",
      "source": [
        "df_train.head()"
      ],
      "metadata": {
        "colab": {
          "base_uri": "https://localhost:8080/",
          "height": 206
        },
        "id": "CIVPfzW_7OV7",
        "outputId": "f1fd9026-4f58-424d-997b-4ff12045b82c"
      },
      "execution_count": 219,
      "outputs": [
        {
          "output_type": "execute_result",
          "data": {
            "text/plain": [
              "                                                text  label\n",
              "0  Presidential candidate Mar Roxas implies that ...      1\n",
              "1  Parang may mali na sumunod ang patalastas ng N...      1\n",
              "2                    Bet ko. Pula Ang Kulay Ng Posas      1\n",
              "3                               [USERNAME] kakampink      0\n",
              "4  Bakit parang tahimik ang mga PINK about Doc Wi...      1"
            ],
            "text/html": [
              "\n",
              "  <div id=\"df-4541b1e1-63eb-46e8-a36c-c3a4cfa87988\" class=\"colab-df-container\">\n",
              "    <div>\n",
              "<style scoped>\n",
              "    .dataframe tbody tr th:only-of-type {\n",
              "        vertical-align: middle;\n",
              "    }\n",
              "\n",
              "    .dataframe tbody tr th {\n",
              "        vertical-align: top;\n",
              "    }\n",
              "\n",
              "    .dataframe thead th {\n",
              "        text-align: right;\n",
              "    }\n",
              "</style>\n",
              "<table border=\"1\" class=\"dataframe\">\n",
              "  <thead>\n",
              "    <tr style=\"text-align: right;\">\n",
              "      <th></th>\n",
              "      <th>text</th>\n",
              "      <th>label</th>\n",
              "    </tr>\n",
              "  </thead>\n",
              "  <tbody>\n",
              "    <tr>\n",
              "      <th>0</th>\n",
              "      <td>Presidential candidate Mar Roxas implies that ...</td>\n",
              "      <td>1</td>\n",
              "    </tr>\n",
              "    <tr>\n",
              "      <th>1</th>\n",
              "      <td>Parang may mali na sumunod ang patalastas ng N...</td>\n",
              "      <td>1</td>\n",
              "    </tr>\n",
              "    <tr>\n",
              "      <th>2</th>\n",
              "      <td>Bet ko. Pula Ang Kulay Ng Posas</td>\n",
              "      <td>1</td>\n",
              "    </tr>\n",
              "    <tr>\n",
              "      <th>3</th>\n",
              "      <td>[USERNAME] kakampink</td>\n",
              "      <td>0</td>\n",
              "    </tr>\n",
              "    <tr>\n",
              "      <th>4</th>\n",
              "      <td>Bakit parang tahimik ang mga PINK about Doc Wi...</td>\n",
              "      <td>1</td>\n",
              "    </tr>\n",
              "  </tbody>\n",
              "</table>\n",
              "</div>\n",
              "    <div class=\"colab-df-buttons\">\n",
              "\n",
              "  <div class=\"colab-df-container\">\n",
              "    <button class=\"colab-df-convert\" onclick=\"convertToInteractive('df-4541b1e1-63eb-46e8-a36c-c3a4cfa87988')\"\n",
              "            title=\"Convert this dataframe to an interactive table.\"\n",
              "            style=\"display:none;\">\n",
              "\n",
              "  <svg xmlns=\"http://www.w3.org/2000/svg\" height=\"24px\" viewBox=\"0 -960 960 960\">\n",
              "    <path d=\"M120-120v-720h720v720H120Zm60-500h600v-160H180v160Zm220 220h160v-160H400v160Zm0 220h160v-160H400v160ZM180-400h160v-160H180v160Zm440 0h160v-160H620v160ZM180-180h160v-160H180v160Zm440 0h160v-160H620v160Z\"/>\n",
              "  </svg>\n",
              "    </button>\n",
              "\n",
              "  <style>\n",
              "    .colab-df-container {\n",
              "      display:flex;\n",
              "      gap: 12px;\n",
              "    }\n",
              "\n",
              "    .colab-df-convert {\n",
              "      background-color: #E8F0FE;\n",
              "      border: none;\n",
              "      border-radius: 50%;\n",
              "      cursor: pointer;\n",
              "      display: none;\n",
              "      fill: #1967D2;\n",
              "      height: 32px;\n",
              "      padding: 0 0 0 0;\n",
              "      width: 32px;\n",
              "    }\n",
              "\n",
              "    .colab-df-convert:hover {\n",
              "      background-color: #E2EBFA;\n",
              "      box-shadow: 0px 1px 2px rgba(60, 64, 67, 0.3), 0px 1px 3px 1px rgba(60, 64, 67, 0.15);\n",
              "      fill: #174EA6;\n",
              "    }\n",
              "\n",
              "    .colab-df-buttons div {\n",
              "      margin-bottom: 4px;\n",
              "    }\n",
              "\n",
              "    [theme=dark] .colab-df-convert {\n",
              "      background-color: #3B4455;\n",
              "      fill: #D2E3FC;\n",
              "    }\n",
              "\n",
              "    [theme=dark] .colab-df-convert:hover {\n",
              "      background-color: #434B5C;\n",
              "      box-shadow: 0px 1px 3px 1px rgba(0, 0, 0, 0.15);\n",
              "      filter: drop-shadow(0px 1px 2px rgba(0, 0, 0, 0.3));\n",
              "      fill: #FFFFFF;\n",
              "    }\n",
              "  </style>\n",
              "\n",
              "    <script>\n",
              "      const buttonEl =\n",
              "        document.querySelector('#df-4541b1e1-63eb-46e8-a36c-c3a4cfa87988 button.colab-df-convert');\n",
              "      buttonEl.style.display =\n",
              "        google.colab.kernel.accessAllowed ? 'block' : 'none';\n",
              "\n",
              "      async function convertToInteractive(key) {\n",
              "        const element = document.querySelector('#df-4541b1e1-63eb-46e8-a36c-c3a4cfa87988');\n",
              "        const dataTable =\n",
              "          await google.colab.kernel.invokeFunction('convertToInteractive',\n",
              "                                                    [key], {});\n",
              "        if (!dataTable) return;\n",
              "\n",
              "        const docLinkHtml = 'Like what you see? Visit the ' +\n",
              "          '<a target=\"_blank\" href=https://colab.research.google.com/notebooks/data_table.ipynb>data table notebook</a>'\n",
              "          + ' to learn more about interactive tables.';\n",
              "        element.innerHTML = '';\n",
              "        dataTable['output_type'] = 'display_data';\n",
              "        await google.colab.output.renderOutput(dataTable, element);\n",
              "        const docLink = document.createElement('div');\n",
              "        docLink.innerHTML = docLinkHtml;\n",
              "        element.appendChild(docLink);\n",
              "      }\n",
              "    </script>\n",
              "  </div>\n",
              "\n",
              "\n",
              "<div id=\"df-aa831ac8-fcef-4074-8f79-2851f70a71f9\">\n",
              "  <button class=\"colab-df-quickchart\" onclick=\"quickchart('df-aa831ac8-fcef-4074-8f79-2851f70a71f9')\"\n",
              "            title=\"Suggest charts\"\n",
              "            style=\"display:none;\">\n",
              "\n",
              "<svg xmlns=\"http://www.w3.org/2000/svg\" height=\"24px\"viewBox=\"0 0 24 24\"\n",
              "     width=\"24px\">\n",
              "    <g>\n",
              "        <path d=\"M19 3H5c-1.1 0-2 .9-2 2v14c0 1.1.9 2 2 2h14c1.1 0 2-.9 2-2V5c0-1.1-.9-2-2-2zM9 17H7v-7h2v7zm4 0h-2V7h2v10zm4 0h-2v-4h2v4z\"/>\n",
              "    </g>\n",
              "</svg>\n",
              "  </button>\n",
              "\n",
              "<style>\n",
              "  .colab-df-quickchart {\n",
              "      --bg-color: #E8F0FE;\n",
              "      --fill-color: #1967D2;\n",
              "      --hover-bg-color: #E2EBFA;\n",
              "      --hover-fill-color: #174EA6;\n",
              "      --disabled-fill-color: #AAA;\n",
              "      --disabled-bg-color: #DDD;\n",
              "  }\n",
              "\n",
              "  [theme=dark] .colab-df-quickchart {\n",
              "      --bg-color: #3B4455;\n",
              "      --fill-color: #D2E3FC;\n",
              "      --hover-bg-color: #434B5C;\n",
              "      --hover-fill-color: #FFFFFF;\n",
              "      --disabled-bg-color: #3B4455;\n",
              "      --disabled-fill-color: #666;\n",
              "  }\n",
              "\n",
              "  .colab-df-quickchart {\n",
              "    background-color: var(--bg-color);\n",
              "    border: none;\n",
              "    border-radius: 50%;\n",
              "    cursor: pointer;\n",
              "    display: none;\n",
              "    fill: var(--fill-color);\n",
              "    height: 32px;\n",
              "    padding: 0;\n",
              "    width: 32px;\n",
              "  }\n",
              "\n",
              "  .colab-df-quickchart:hover {\n",
              "    background-color: var(--hover-bg-color);\n",
              "    box-shadow: 0 1px 2px rgba(60, 64, 67, 0.3), 0 1px 3px 1px rgba(60, 64, 67, 0.15);\n",
              "    fill: var(--button-hover-fill-color);\n",
              "  }\n",
              "\n",
              "  .colab-df-quickchart-complete:disabled,\n",
              "  .colab-df-quickchart-complete:disabled:hover {\n",
              "    background-color: var(--disabled-bg-color);\n",
              "    fill: var(--disabled-fill-color);\n",
              "    box-shadow: none;\n",
              "  }\n",
              "\n",
              "  .colab-df-spinner {\n",
              "    border: 2px solid var(--fill-color);\n",
              "    border-color: transparent;\n",
              "    border-bottom-color: var(--fill-color);\n",
              "    animation:\n",
              "      spin 1s steps(1) infinite;\n",
              "  }\n",
              "\n",
              "  @keyframes spin {\n",
              "    0% {\n",
              "      border-color: transparent;\n",
              "      border-bottom-color: var(--fill-color);\n",
              "      border-left-color: var(--fill-color);\n",
              "    }\n",
              "    20% {\n",
              "      border-color: transparent;\n",
              "      border-left-color: var(--fill-color);\n",
              "      border-top-color: var(--fill-color);\n",
              "    }\n",
              "    30% {\n",
              "      border-color: transparent;\n",
              "      border-left-color: var(--fill-color);\n",
              "      border-top-color: var(--fill-color);\n",
              "      border-right-color: var(--fill-color);\n",
              "    }\n",
              "    40% {\n",
              "      border-color: transparent;\n",
              "      border-right-color: var(--fill-color);\n",
              "      border-top-color: var(--fill-color);\n",
              "    }\n",
              "    60% {\n",
              "      border-color: transparent;\n",
              "      border-right-color: var(--fill-color);\n",
              "    }\n",
              "    80% {\n",
              "      border-color: transparent;\n",
              "      border-right-color: var(--fill-color);\n",
              "      border-bottom-color: var(--fill-color);\n",
              "    }\n",
              "    90% {\n",
              "      border-color: transparent;\n",
              "      border-bottom-color: var(--fill-color);\n",
              "    }\n",
              "  }\n",
              "</style>\n",
              "\n",
              "  <script>\n",
              "    async function quickchart(key) {\n",
              "      const quickchartButtonEl =\n",
              "        document.querySelector('#' + key + ' button');\n",
              "      quickchartButtonEl.disabled = true;  // To prevent multiple clicks.\n",
              "      quickchartButtonEl.classList.add('colab-df-spinner');\n",
              "      try {\n",
              "        const charts = await google.colab.kernel.invokeFunction(\n",
              "            'suggestCharts', [key], {});\n",
              "      } catch (error) {\n",
              "        console.error('Error during call to suggestCharts:', error);\n",
              "      }\n",
              "      quickchartButtonEl.classList.remove('colab-df-spinner');\n",
              "      quickchartButtonEl.classList.add('colab-df-quickchart-complete');\n",
              "    }\n",
              "    (() => {\n",
              "      let quickchartButtonEl =\n",
              "        document.querySelector('#df-aa831ac8-fcef-4074-8f79-2851f70a71f9 button');\n",
              "      quickchartButtonEl.style.display =\n",
              "        google.colab.kernel.accessAllowed ? 'block' : 'none';\n",
              "    })();\n",
              "  </script>\n",
              "</div>\n",
              "\n",
              "    </div>\n",
              "  </div>\n"
            ],
            "application/vnd.google.colaboratory.intrinsic+json": {
              "type": "dataframe",
              "variable_name": "df_train",
              "summary": "{\n  \"name\": \"df_train\",\n  \"rows\": 21773,\n  \"fields\": [\n    {\n      \"column\": \"text\",\n      \"properties\": {\n        \"dtype\": \"string\",\n        \"num_unique_values\": 21773,\n        \"samples\": [\n          \"\\\"[USERNAME]: VP Binay: I wont back out from 2016 race \\\" you won't be voted into office. You don't deserve it.\",\n          \"Uy si Mar Roxas nasa tv!! Tulugan na. Magsama kayo ni Korina sa Grabe Sya\",\n          \"Look at yourself. No logic at all. Why would PoeMar and Binay pay someone to talk against Duterte? Duterte did it to himself. PERIOD\"\n        ],\n        \"semantic_type\": \"\",\n        \"description\": \"\"\n      }\n    },\n    {\n      \"column\": \"label\",\n      \"properties\": {\n        \"dtype\": \"number\",\n        \"std\": 0,\n        \"min\": 0,\n        \"max\": 1,\n        \"num_unique_values\": 2,\n        \"samples\": [\n          0,\n          1\n        ],\n        \"semantic_type\": \"\",\n        \"description\": \"\"\n      }\n    }\n  ]\n}"
            }
          },
          "metadata": {},
          "execution_count": 219
        }
      ]
    },
    {
      "cell_type": "markdown",
      "source": [
        "**Validation Set**\n",
        "\n",
        "Use this set to evaluate your model"
      ],
      "metadata": {
        "id": "iQIg6P7PjQBo"
      }
    },
    {
      "cell_type": "code",
      "source": [
        "df_validation = pd.read_csv(\"hf://datasets/mapsoriano/2016_2022_hate_speech_filipino/\" + splits[\"validation\"])"
      ],
      "metadata": {
        "id": "VRB2t37Nk6A6"
      },
      "execution_count": 220,
      "outputs": []
    },
    {
      "cell_type": "markdown",
      "source": [
        "**Test Set**\n",
        "  \n",
        "Use this set to test your model"
      ],
      "metadata": {
        "id": "9zDlyRsEnOSR"
      }
    },
    {
      "cell_type": "code",
      "source": [
        "df_test = pd.read_csv(\"hf://datasets/mapsoriano/2016_2022_hate_speech_filipino/\" + splits[\"test\"])"
      ],
      "metadata": {
        "id": "OxpoTxoilJ7e"
      },
      "execution_count": 221,
      "outputs": []
    },
    {
      "cell_type": "markdown",
      "source": [
        "## A. Understanding your training data"
      ],
      "metadata": {
        "id": "Q4mSMMNIgKhZ"
      }
    },
    {
      "cell_type": "markdown",
      "source": [
        "1. Check the first 10 rows of the training dataset"
      ],
      "metadata": {
        "id": "h0rMaAu9gq1G"
      }
    },
    {
      "cell_type": "code",
      "source": [
        "\n",
        "data = pd.read_csv(\"hf://datasets/mapsoriano/2016_2022_hate_speech_filipino/\" + splits[\"train\"])\n",
        "\n",
        "\n",
        "X = data['text']\n",
        "y = data['label']\n",
        "X_train, X_test, y_train, y_test = train_test_split(X, y, test_size=0.2, random_state=42)\n",
        "\n",
        "\n",
        "train_data = pd.DataFrame({'text': X_train, 'label': y_train})\n",
        "\n",
        "print(train_data.head(10))\n"
      ],
      "metadata": {
        "id": "dXIzpHtzguWw",
        "colab": {
          "base_uri": "https://localhost:8080/"
        },
        "outputId": "0481a51a-a25a-4898-8d82-97254c9703b1"
      },
      "execution_count": 222,
      "outputs": [
        {
          "output_type": "stream",
          "name": "stdout",
          "text": [
            "                                                    text  label\n",
            "8187   patuloy na titindig mananatiling mulat para sa...      1\n",
            "19536  Korina Sanchez-Roxas on Roxas vs Duterte\"This ...      0\n",
            "14738  Credibility and integrity. Wala bokya na tsk t...      1\n",
            "1579   Binay as blackey daw sa dots HAHAHAHAHAHA DI K...      1\n",
            "2968   Wala namang napatunayan e! Commented on: Binay...      1\n",
            "14725                                      Binay Plastic      1\n",
            "9326   That s my PresidentMabuhay ang Uniteam Mabuhay...      0\n",
            "485    [USERNAME] Shame on you Jinggoy Sagad na talag...      1\n",
            "21424  [USERNAME] Mannyvolunteers ang tawag sa kanila...      1\n",
            "967    Konek News: Binay umupak kay PNoy: Nakakahiya ...      1\n"
          ]
        }
      ]
    },
    {
      "cell_type": "markdown",
      "source": [
        "2. Check how many rows and columns are in the training dataset using `.info()`"
      ],
      "metadata": {
        "id": "fqahy2swgvRP"
      }
    },
    {
      "cell_type": "code",
      "source": [
        "\n",
        "data = pd.read_csv(\"hf://datasets/mapsoriano/2016_2022_hate_speech_filipino/\" + splits[\"train\"])\n",
        "\n",
        "\n",
        "X = data['text']\n",
        "y = data['label']\n",
        "X_train, X_test, y_train, y_test = train_test_split(X, y, test_size=0.2, random_state=42)\n",
        "\n",
        "train_data = pd.DataFrame({'text': X_train, 'label': y_train})\n",
        "\n",
        "\n",
        "train_data.info()\n"
      ],
      "metadata": {
        "id": "4LaHZrsghAGI",
        "colab": {
          "base_uri": "https://localhost:8080/"
        },
        "outputId": "e72e7822-e7f1-436b-c586-17407b335b99"
      },
      "execution_count": 223,
      "outputs": [
        {
          "output_type": "stream",
          "name": "stdout",
          "text": [
            "<class 'pandas.core.frame.DataFrame'>\n",
            "Index: 17418 entries, 8187 to 15795\n",
            "Data columns (total 2 columns):\n",
            " #   Column  Non-Null Count  Dtype \n",
            "---  ------  --------------  ----- \n",
            " 0   text    17418 non-null  object\n",
            " 1   label   17418 non-null  int64 \n",
            "dtypes: int64(1), object(1)\n",
            "memory usage: 408.2+ KB\n"
          ]
        }
      ]
    },
    {
      "cell_type": "markdown",
      "source": [
        "3. Check for NaN values"
      ],
      "metadata": {
        "id": "pGO5JHqpgY27"
      }
    },
    {
      "cell_type": "code",
      "source": [
        "\n",
        "\n",
        "data = pd.read_csv(\"hf://datasets/mapsoriano/2016_2022_hate_speech_filipino/\" + splits[\"train\"])\n",
        "\n",
        "\n",
        "X = data['text']\n",
        "y = data['label']\n",
        "X_train, X_test, y_train, y_test = train_test_split(X, y, test_size=0.2, random_state=42)\n",
        "\n",
        "\n",
        "train_data = pd.DataFrame({'text': X_train, 'label': y_train})\n",
        "\n",
        "\n",
        "nan_counts = train_data.isna().sum()\n",
        "print(nan_counts)\n"
      ],
      "metadata": {
        "id": "gw0ntqg4gWSl",
        "colab": {
          "base_uri": "https://localhost:8080/"
        },
        "outputId": "61b553e1-3b9f-4e68-c3fb-bd1b6c30281e"
      },
      "execution_count": 224,
      "outputs": [
        {
          "output_type": "stream",
          "name": "stdout",
          "text": [
            "text     0\n",
            "label    0\n",
            "dtype: int64\n"
          ]
        }
      ]
    },
    {
      "cell_type": "markdown",
      "source": [
        "4. Check for duplicate rows"
      ],
      "metadata": {
        "id": "11tJwLFCgbCE"
      }
    },
    {
      "cell_type": "code",
      "source": [
        "train_data_cleaned = train_data.drop_duplicates()\n",
        "print(\"DataFrame after removing duplicates:\")\n",
        "print(train_data_cleaned)\n"
      ],
      "metadata": {
        "id": "9rJwyKDZge6Q",
        "colab": {
          "base_uri": "https://localhost:8080/"
        },
        "outputId": "c535fd8f-dd06-430e-b97e-577585438263"
      },
      "execution_count": 225,
      "outputs": [
        {
          "output_type": "stream",
          "name": "stdout",
          "text": [
            "DataFrame after removing duplicates:\n",
            "                                                    text  label\n",
            "8187   patuloy na titindig mananatiling mulat para sa...      1\n",
            "19536  Korina Sanchez-Roxas on Roxas vs Duterte\"This ...      0\n",
            "14738  Credibility and integrity. Wala bokya na tsk t...      1\n",
            "1579   Binay as blackey daw sa dots HAHAHAHAHAHA DI K...      1\n",
            "2968   Wala namang napatunayan e! Commented on: Binay...      1\n",
            "...                                                  ...    ...\n",
            "11964  Kapag nagkamali tayo ng ibobotong Presidente s...      0\n",
            "21575  Mas tanggap ko pang si Poe or Santiago ang pum...      1\n",
            "5390   TANGINA NG MGA DDS NA TO UNITIHIEVES NAMAN YAN...      1\n",
            "860    How come the other candidates always hits on D...      1\n",
            "15795  Check out Mars's video! Tik Tok Let Leni Lead BBM      0\n",
            "\n",
            "[17418 rows x 2 columns]\n"
          ]
        }
      ]
    },
    {
      "cell_type": "markdown",
      "source": [
        "5. Check how many rows belong to each class"
      ],
      "metadata": {
        "id": "P1twAxT9ggMp"
      }
    },
    {
      "cell_type": "code",
      "source": [
        "\n",
        "data = pd.read_csv(\"hf://datasets/mapsoriano/2016_2022_hate_speech_filipino/\" + splits[\"train\"])\n",
        "\n",
        "\n",
        "X = data['text']\n",
        "y = data['label']\n",
        "X_train, X_test, y_train, y_test = train_test_split(X, y, test_size=0.2, random_state=42)\n",
        "\n",
        "\n",
        "train_data = pd.DataFrame({'text': X_train, 'label': y_train})\n",
        "\n",
        "\n",
        "class_counts = train_data['label'].value_counts()\n",
        "print(\"Class distribution:\")\n",
        "print(class_counts)\n",
        "\n",
        "\n",
        "class_counts.plot(kind='bar')\n",
        "plt.title('Class Distribution')\n",
        "plt.xlabel('Class')\n",
        "plt.ylabel('Number of Instances')\n",
        "plt.xticks(rotation=0)\n",
        "plt.show()\n"
      ],
      "metadata": {
        "id": "CSFc4cFugk9h",
        "colab": {
          "base_uri": "https://localhost:8080/",
          "height": 559
        },
        "outputId": "e7d6efb3-b4f1-466b-aa3d-3d584f36b1ac"
      },
      "execution_count": 226,
      "outputs": [
        {
          "output_type": "stream",
          "name": "stdout",
          "text": [
            "Class distribution:\n",
            "label\n",
            "1    8778\n",
            "0    8640\n",
            "Name: count, dtype: int64\n"
          ]
        },
        {
          "output_type": "display_data",
          "data": {
            "text/plain": [
              "<Figure size 640x480 with 1 Axes>"
            ],
            "image/png": "[encoded data removed]"
          },
          "metadata": {}
        }
      ]
    },
    {
      "cell_type": "markdown",
      "source": [
        "## B. Text pre-processing"
      ],
      "metadata": {
        "id": "EVVSotUIgSuJ"
      }
    },
    {
      "cell_type": "markdown",
      "source": [
        "6. Remove duplicate rows"
      ],
      "metadata": {
        "id": "h31QlJJCd22I"
      }
    },
    {
      "cell_type": "code",
      "source": [
        "\n",
        "\n",
        "\n",
        "data = pd.read_csv(\"hf://datasets/mapsoriano/2016_2022_hate_speech_filipino/\" + splits[\"train\"])\n",
        "\n",
        "\n",
        "X = data['text']\n",
        "y = data['label']\n",
        "X_train, X_test, y_train, y_test = train_test_split(X, y, test_size=0.2, random_state=42)\n",
        "\n",
        "\n",
        "train_data = pd.DataFrame({'text': X_train, 'label': y_train})\n",
        "\n",
        "train_data_cleaned = train_data.drop_duplicates()\n",
        "\n",
        "print(f\"Number of rows before removing duplicates: {len(train_data)}\")\n",
        "print(f\"Number of rows after removing duplicates: {len(train_data_cleaned)}\")\n"
      ],
      "metadata": {
        "id": "ZMaUVsgReHKP",
        "colab": {
          "base_uri": "https://localhost:8080/"
        },
        "outputId": "84cc5b0f-281a-4d56-c501-0854ffeffe44"
      },
      "execution_count": 227,
      "outputs": [
        {
          "output_type": "stream",
          "name": "stdout",
          "text": [
            "Number of rows before removing duplicates: 17418\n",
            "Number of rows after removing duplicates: 17418\n"
          ]
        }
      ]
    },
    {
      "cell_type": "markdown",
      "source": [
        "7. Remove rows with NaN values"
      ],
      "metadata": {
        "id": "U0FJLJwueBb2"
      }
    },
    {
      "cell_type": "code",
      "source": [
        "\n",
        "\n",
        "data = pd.read_csv(\"hf://datasets/mapsoriano/2016_2022_hate_speech_filipino/\" + splits[\"train\"])\n",
        "\n",
        "\n",
        "X = data['text']\n",
        "y = data['label']\n",
        "X_train, X_test, y_train, y_test = train_test_split(X, y, test_size=0.2, random_state=42)\n",
        "\n",
        "\n",
        "train_data = pd.DataFrame({'text': X_train, 'label': y_train})\n",
        "\n",
        "# Remove rows with NaN values\n",
        "train_data_cleaned = train_data.dropna()\n",
        "\n",
        "# Print the number of rows before and after removing NaN values\n",
        "print(f\"Number of rows before removing NaN values: {len(train_data)}\")\n",
        "print(f\"Number of rows after removing NaN values: {len(train_data_cleaned)}\")\n"
      ],
      "metadata": {
        "id": "pzegxzl0eKxA",
        "colab": {
          "base_uri": "https://localhost:8080/"
        },
        "outputId": "6090ab41-b071-4571-e24b-1012352e34fd"
      },
      "execution_count": 228,
      "outputs": [
        {
          "output_type": "stream",
          "name": "stdout",
          "text": [
            "Number of rows before removing NaN values: 17418\n",
            "Number of rows after removing NaN values: 17418\n"
          ]
        }
      ]
    },
    {
      "cell_type": "markdown",
      "source": [
        "8. Convert all text to lowercase"
      ],
      "metadata": {
        "id": "0uEgbwrEeO0y"
      }
    },
    {
      "cell_type": "code",
      "source": [
        "\n",
        "data = pd.read_csv(\"hf://datasets/mapsoriano/2016_2022_hate_speech_filipino/\" + splits[\"train\"])\n",
        "\n",
        "X = data['text']\n",
        "y = data['label']\n",
        "X_train, X_test, y_train, y_test = train_test_split(X, y, test_size=0.2, random_state=42)\n",
        "\n",
        "\n",
        "train_data = pd.DataFrame({'text': X_train, 'label': y_train})\n",
        "\n",
        "\n",
        "train_data['text'] = train_data['text'].str.lower()\n",
        "\n",
        "\n",
        "print(train_data.head())\n"
      ],
      "metadata": {
        "id": "b_TN15G4eSjV",
        "colab": {
          "base_uri": "https://localhost:8080/"
        },
        "outputId": "31b2babf-9b23-42a9-8add-8b16bb903f0b"
      },
      "execution_count": 229,
      "outputs": [
        {
          "output_type": "stream",
          "name": "stdout",
          "text": [
            "                                                    text  label\n",
            "8187   patuloy na titindig mananatiling mulat para sa...      1\n",
            "19536  korina sanchez-roxas on roxas vs duterte\"this ...      0\n",
            "14738  credibility and integrity. wala bokya na tsk t...      1\n",
            "1579   binay as blackey daw sa dots hahahahahaha di k...      1\n",
            "2968   wala namang napatunayan e! commented on: binay...      1\n"
          ]
        }
      ]
    },
    {
      "cell_type": "markdown",
      "source": [
        "9. Remove digits, URLS and special characters"
      ],
      "metadata": {
        "id": "dejH8IW7eU7h"
      }
    },
    {
      "cell_type": "code",
      "source": [
        "\n",
        "\n",
        "\n",
        "data = pd.read_csv(\"hf://datasets/mapsoriano/2016_2022_hate_speech_filipino/\" + splits[\"train\"])\n",
        "\n",
        "\n",
        "X = data['text']\n",
        "y = data['label']\n",
        "X_train, X_test, y_train, y_test = train_test_split(X, y, test_size=0.2, random_state=42)\n",
        "\n",
        "\n",
        "train_data = pd.DataFrame({'text': X_train, 'label': y_train})\n",
        "\n",
        "\n",
        "def clean_text(text):\n",
        "\n",
        "    text = re.sub(r'http\\S+|www\\S+|https\\S+', '', text, flags=re.MULTILINE)\n",
        "\n",
        "    text = re.sub(r'\\d+', '', text)\n",
        "\n",
        "    text = re.sub(r'[^a-zA-Z\\s]', '', text)\n",
        "    return text\n",
        "\n",
        "\n",
        "train_data['text'] = train_data['text'].apply(clean_text)\n",
        "\n",
        "\n",
        "print(train_data.head())\n"
      ],
      "metadata": {
        "id": "XiPCD1mXeeP3",
        "colab": {
          "base_uri": "https://localhost:8080/"
        },
        "outputId": "88490fcb-6224-4fdf-d6b0-2ac61a71582b"
      },
      "execution_count": 230,
      "outputs": [
        {
          "output_type": "stream",
          "name": "stdout",
          "text": [
            "                                                    text  label\n",
            "8187   patuloy na titindig mananatiling mulat para sa...      1\n",
            "19536  Korina SanchezRoxas on Roxas vs DuterteThis is...      0\n",
            "14738  Credibility and integrity Wala bokya na tsk ts...      1\n",
            "1579   Binay as blackey daw sa dots HAHAHAHAHAHA DI K...      1\n",
            "2968   Wala namang napatunayan e Commented on Binay c...      1\n"
          ]
        }
      ]
    },
    {
      "cell_type": "markdown",
      "source": [
        "10. Remove stop words"
      ],
      "metadata": {
        "id": "717MNDtMedlC"
      }
    },
    {
      "cell_type": "code",
      "source": [
        "\n",
        "nltk.download('stopwords')\n",
        "\n",
        "\n",
        "data = pd.read_csv(\"hf://datasets/mapsoriano/2016_2022_hate_speech_filipino/\" + splits[\"train\"])\n",
        "\n",
        "\n",
        "X = data['text']\n",
        "y = data['label']\n",
        "X_train, X_test, y_train, y_test = train_test_split(X, y, test_size=0.2, random_state=42)\n",
        "\n",
        "\n",
        "train_data = pd.DataFrame({'text': X_train, 'label': y_train})\n",
        "\n",
        "\n",
        "stop_words = set(stopwords.words('english'))\n",
        "\n",
        "\n",
        "def remove_stop_words(text):\n",
        "\n",
        "    return ' '.join(word for word in text.split() if word.lower() not in stop_words)\n",
        "\n",
        "\n",
        "train_data['text'] = train_data['text'].apply(remove_stop_words)\n",
        "\n",
        "\n",
        "print(train_data.head())\n"
      ],
      "metadata": {
        "id": "Y4wKDC8-eg82",
        "colab": {
          "base_uri": "https://localhost:8080/"
        },
        "outputId": "615bef5e-3d1e-4fc5-c145-2948673a7815"
      },
      "execution_count": 231,
      "outputs": [
        {
          "output_type": "stream",
          "name": "stderr",
          "text": [
            "[nltk_data] Downloading package stopwords to /root/nltk_data...\n",
            "[nltk_data]   Package stopwords is already up-to-date!\n"
          ]
        },
        {
          "output_type": "stream",
          "name": "stdout",
          "text": [
            "                                                    text  label\n",
            "8187   patuloy na titindig mananatiling mulat para sa...      1\n",
            "19536  Korina Sanchez-Roxas Roxas vs Duterte\"This bat...      0\n",
            "14738  Credibility integrity. Wala bokya na tsk tsk. ...      1\n",
            "1579   Binay blackey daw sa dots HAHAHAHAHAHA DI KO K...      1\n",
            "2968   Wala namang napatunayan e! Commented on: Binay...      1\n"
          ]
        }
      ]
    },
    {
      "cell_type": "markdown",
      "source": [
        "11. Use Stemming or Lemmatization"
      ],
      "metadata": {
        "id": "j4jPfb1_eiAA"
      }
    },
    {
      "cell_type": "code",
      "source": [
        "\n",
        "\n",
        "data = pd.read_csv(\"hf://datasets/mapsoriano/2016_2022_hate_speech_filipino/\" + splits[\"train\"])\n",
        "\n",
        "\n",
        "X = data['text']\n",
        "y = data['label']\n",
        "X_train, X_test, y_train, y_test = train_test_split(X, y, test_size=0.2, random_state=42)\n",
        "\n",
        "\n",
        "train_data = pd.DataFrame({'text': X_train, 'label': y_train})\n",
        "\n",
        "\n",
        "stemmer = PorterStemmer()\n",
        "\n",
        "\n",
        "def stem_text(text):\n",
        "    return ' '.join(stemmer.stem(word) for word in text.split())\n",
        "\n",
        "\n",
        "train_data['text'] = train_data['text'].apply(stem_text)\n",
        "\n",
        "\n",
        "print(train_data.head())\n",
        "\n",
        "\n",
        "\n",
        "\n",
        "nltk.download('wordnet')\n",
        "\n",
        "\n",
        "data = pd.read_csv(\"hf://datasets/mapsoriano/2016_2022_hate_speech_filipino/\" + splits[\"train\"])\n",
        "\n",
        "\n",
        "X = data['text']\n",
        "y = data['label']\n",
        "X_train, X_test, y_train, y_test = train_test_split(X, y, test_size=0.2, random_state=42)\n",
        "\n",
        "\n",
        "train_data = pd.DataFrame({'text': X_train, 'label': y_train})\n",
        "\n",
        "\n",
        "lemmatizer = WordNetLemmatizer()\n",
        "\n",
        "\n",
        "def lemmatize_text(text):\n",
        "    return ' '.join(lemmatizer.lemmatize(word) for word in text.split())\n",
        "\n",
        "\n",
        "train_data['text'] = train_data['text'].apply(lemmatize_text)\n",
        "\n",
        "\n",
        "print(train_data.head())\n"
      ],
      "metadata": {
        "id": "Ip0oDYsviKg1",
        "colab": {
          "base_uri": "https://localhost:8080/"
        },
        "outputId": "733ce714-4726-454e-87be-5f6d3c2fad45"
      },
      "execution_count": 232,
      "outputs": [
        {
          "output_type": "stream",
          "name": "stdout",
          "text": [
            "                                                    text  label\n",
            "8187   patuloy na titindig mananatil mulat para sa pi...      1\n",
            "19536  korina sanchez-roxa on roxa vs duterte\"thi is ...      0\n",
            "14738  credibl and integrity. wala bokya na tsk tsk. ...      1\n",
            "1579   binay as blackey daw sa dot hahahahahaha di ko...      1\n",
            "2968   wala namang napatunayan e! comment on: binay c...      1\n"
          ]
        },
        {
          "output_type": "stream",
          "name": "stderr",
          "text": [
            "[nltk_data] Downloading package wordnet to /root/nltk_data...\n",
            "[nltk_data]   Package wordnet is already up-to-date!\n"
          ]
        },
        {
          "output_type": "stream",
          "name": "stdout",
          "text": [
            "                                                    text  label\n",
            "8187   patuloy na titindig mananatiling mulat para sa...      1\n",
            "19536  Korina Sanchez-Roxas on Roxas v Duterte\"This i...      0\n",
            "14738  Credibility and integrity. Wala bokya na tsk t...      1\n",
            "1579   Binay a blackey daw sa dot HAHAHAHAHAHA DI KO ...      1\n",
            "2968   Wala namang napatunayan e! Commented on: Binay...      1\n"
          ]
        }
      ]
    },
    {
      "cell_type": "markdown",
      "source": [
        "## C. Training your model"
      ],
      "metadata": {
        "id": "CHBLOTfShuZJ"
      }
    },
    {
      "cell_type": "markdown",
      "source": [
        "12. Put all text training data in variable **X_train**"
      ],
      "metadata": {
        "id": "mN-fGuYCh247"
      }
    },
    {
      "cell_type": "code",
      "source": [
        "\n",
        "data = pd.read_csv(\"hf://datasets/mapsoriano/2016_2022_hate_speech_filipino/\" + splits[\"train\"])\n",
        "\n",
        "\n",
        "X = data['text']\n",
        "y = data['label']\n",
        "\n",
        "\n",
        "X_train, X_test, y_train, y_test = train_test_split(X, y, test_size=0.2, random_state=42)\n",
        "\n",
        "print(\"Text training data (first 5 rows):\")\n",
        "print(X_train.head())\n"
      ],
      "metadata": {
        "id": "JpH-V0Mbh98u",
        "colab": {
          "base_uri": "https://localhost:8080/"
        },
        "outputId": "85ce6a13-db1a-49fb-970e-ef3b9f0eaa1b"
      },
      "execution_count": 233,
      "outputs": [
        {
          "output_type": "stream",
          "name": "stdout",
          "text": [
            "Text training data (first 5 rows):\n",
            "8187     patuloy na titindig mananatiling mulat para sa...\n",
            "19536    Korina Sanchez-Roxas on Roxas vs Duterte\"This ...\n",
            "14738    Credibility and integrity. Wala bokya na tsk t...\n",
            "1579     Binay as blackey daw sa dots HAHAHAHAHAHA DI K...\n",
            "2968     Wala namang napatunayan e! Commented on: Binay...\n",
            "Name: text, dtype: object\n"
          ]
        }
      ]
    },
    {
      "cell_type": "markdown",
      "source": [
        "13. Put all training data labels in variable **y_train**"
      ],
      "metadata": {
        "id": "BTIRnIgTh-fj"
      }
    },
    {
      "cell_type": "code",
      "source": [
        "\n",
        "data = pd.read_csv(\"hf://datasets/mapsoriano/2016_2022_hate_speech_filipino/\" + splits[\"train\"])\n",
        "\n",
        "\n",
        "X = data['text']\n",
        "y = data['label']\n",
        "\n",
        "\n",
        "X_train, X_test, y_train, y_test = train_test_split(X, y, test_size=0.2, random_state=42)\n",
        "\n",
        "\n",
        "print(\"Training data labels (first 5 rows):\")\n",
        "print(y_train.head())\n"
      ],
      "metadata": {
        "id": "u5cLdnzLiDGJ",
        "colab": {
          "base_uri": "https://localhost:8080/"
        },
        "outputId": "a2a369c3-3ace-4273-aaae-ec75dfa7ae77"
      },
      "execution_count": 234,
      "outputs": [
        {
          "output_type": "stream",
          "name": "stdout",
          "text": [
            "Training data labels (first 5 rows):\n",
            "8187     1\n",
            "19536    0\n",
            "14738    1\n",
            "1579     1\n",
            "2968     1\n",
            "Name: label, dtype: int64\n"
          ]
        }
      ]
    },
    {
      "cell_type": "markdown",
      "source": [
        "14. Use `CountVectorizer()` or `TfidfVectorizer()` to convert text data to its numerical form.\n",
        "\n",
        "Put the converted data to **X_train_transformed** variable"
      ],
      "metadata": {
        "id": "eon5IhhRewJn"
      }
    },
    {
      "cell_type": "code",
      "source": [
        "\n",
        "data = pd.read_csv(\"hf://datasets/mapsoriano/2016_2022_hate_speech_filipino/\" + splits[\"train\"])\n",
        "\n",
        "\n",
        "X = data['text']\n",
        "y = data['label']\n",
        "\n",
        "\n",
        "X_train, X_test, y_train, y_test = train_test_split(X, y, test_size=0.2, random_state=42)\n",
        "\n",
        "\n",
        "vectorizer = TfidfVectorizer()\n",
        "\n",
        "\n",
        "X_train_transformed = vectorizer.fit_transform(X_train)\n",
        "\n",
        "\n",
        "X_train_transformed_array = X_train_transformed.toarray()\n",
        "\n",
        "\n",
        "print(\"Shape of X_train_transformed:\", X_train_transformed.shape)"
      ],
      "metadata": {
        "id": "b95qPmsTewfG",
        "colab": {
          "base_uri": "https://localhost:8080/"
        },
        "outputId": "ee18895c-82cb-426c-fd65-36bbba64948c"
      },
      "execution_count": 235,
      "outputs": [
        {
          "output_type": "stream",
          "name": "stdout",
          "text": [
            "Shape of X_train_transformed: (17418, 32558)\n"
          ]
        }
      ]
    },
    {
      "cell_type": "code",
      "source": [
        "data = pd.read_csv(\"hf://datasets/mapsoriano/2016_2022_hate_speech_filipino/\" + splits[\"train\"])\n",
        "\n",
        "\n",
        "X = data['text']\n",
        "y = data['label']\n",
        "\n",
        "\n",
        "X_train, X_test, y_train, y_test = train_test_split(X, y, test_size=0.2, random_state=42)\n",
        "\n",
        "vectorizer = CountVectorizer()\n",
        "\n",
        "\n",
        "X_train_transformed = vectorizer.fit_transform(X_train)\n",
        "\n",
        "\n",
        "X_train_transformed_array = X_train_transformed.toarray()\n",
        "\n",
        "\n",
        "print(\"Shape of X_train_transformed:\", X_train_transformed.shape)"
      ],
      "metadata": {
        "id": "Q1clN-jAMDfy",
        "outputId": "ffc6b319-8fae-4538-a730-f9a2a78aa5fb",
        "colab": {
          "base_uri": "https://localhost:8080/"
        }
      },
      "execution_count": 215,
      "outputs": [
        {
          "output_type": "stream",
          "name": "stdout",
          "text": [
            "Shape of X_train_transformed: (17418, 32558)\n"
          ]
        }
      ]
    },
    {
      "cell_type": "markdown",
      "source": [
        "15. Create an instance of `MultinomalNB()`"
      ],
      "metadata": {
        "id": "OxdKojNie3ss"
      }
    },
    {
      "cell_type": "code",
      "source": [
        "\n",
        "data = pd.read_csv(\"hf://datasets/mapsoriano/2016_2022_hate_speech_filipino/\" + splits[\"train\"])\n",
        "\n",
        "\n",
        "X = data['text']\n",
        "y = data['label']\n",
        "\n",
        "\n",
        "X_train, X_test, y_train, y_test = train_test_split(X, y, test_size=0.2, random_state=42)\n",
        "\n",
        "\n",
        "vectorizer = CountVectorizer()\n",
        "X_train_transformed = vectorizer.fit_transform(X_train)\n",
        "\n",
        "\n",
        "model = MultinomialNB()\n",
        "\n",
        "\n",
        "model.fit(X_train_transformed, y_train)\n",
        "\n",
        "\n"
      ],
      "metadata": {
        "id": "jADaCXLne36S",
        "colab": {
          "base_uri": "https://localhost:8080/",
          "height": 80
        },
        "outputId": "d5172306-176a-4d86-d3a7-e3c0197d0f81"
      },
      "execution_count": 236,
      "outputs": [
        {
          "output_type": "execute_result",
          "data": {
            "text/plain": [
              "MultinomialNB()"
            ],
            "text/html": [
              "<style>#sk-container-id-6 {\n",
              "  /* Definition of color scheme common for light and dark mode */\n",
              "  --sklearn-color-text: black;\n",
              "  --sklearn-color-line: gray;\n",
              "  /* Definition of color scheme for unfitted estimators */\n",
              "  --sklearn-color-unfitted-level-0: #fff5e6;\n",
              "  --sklearn-color-unfitted-level-1: #f6e4d2;\n",
              "  --sklearn-color-unfitted-level-2: #ffe0b3;\n",
              "  --sklearn-color-unfitted-level-3: chocolate;\n",
              "  /* Definition of color scheme for fitted estimators */\n",
              "  --sklearn-color-fitted-level-0: #f0f8ff;\n",
              "  --sklearn-color-fitted-level-1: #d4ebff;\n",
              "  --sklearn-color-fitted-level-2: #b3dbfd;\n",
              "  --sklearn-color-fitted-level-3: cornflowerblue;\n",
              "\n",
              "  /* Specific color for light theme */\n",
              "  --sklearn-color-text-on-default-background: var(--sg-text-color, var(--theme-code-foreground, var(--jp-content-font-color1, black)));\n",
              "  --sklearn-color-background: var(--sg-background-color, var(--theme-background, var(--jp-layout-color0, white)));\n",
              "  --sklearn-color-border-box: var(--sg-text-color, var(--theme-code-foreground, var(--jp-content-font-color1, black)));\n",
              "  --sklearn-color-icon: #696969;\n",
              "\n",
              "  @media (prefers-color-scheme: dark) {\n",
              "    /* Redefinition of color scheme for dark theme */\n",
              "    --sklearn-color-text-on-default-background: var(--sg-text-color, var(--theme-code-foreground, var(--jp-content-font-color1, white)));\n",
              "    --sklearn-color-background: var(--sg-background-color, var(--theme-background, var(--jp-layout-color0, #111)));\n",
              "    --sklearn-color-border-box: var(--sg-text-color, var(--theme-code-foreground, var(--jp-content-font-color1, white)));\n",
              "    --sklearn-color-icon: #878787;\n",
              "  }\n",
              "}\n",
              "\n",
              "#sk-container-id-6 {\n",
              "  color: var(--sklearn-color-text);\n",
              "}\n",
              "\n",
              "#sk-container-id-6 pre {\n",
              "  padding: 0;\n",
              "}\n",
              "\n",
              "#sk-container-id-6 input.sk-hidden--visually {\n",
              "  border: 0;\n",
              "  clip: rect(1px 1px 1px 1px);\n",
              "  clip: rect(1px, 1px, 1px, 1px);\n",
              "  height: 1px;\n",
              "  margin: -1px;\n",
              "  overflow: hidden;\n",
              "  padding: 0;\n",
              "  position: absolute;\n",
              "  width: 1px;\n",
              "}\n",
              "\n",
              "#sk-container-id-6 div.sk-dashed-wrapped {\n",
              "  border: 1px dashed var(--sklearn-color-line);\n",
              "  margin: 0 0.4em 0.5em 0.4em;\n",
              "  box-sizing: border-box;\n",
              "  padding-bottom: 0.4em;\n",
              "  background-color: var(--sklearn-color-background);\n",
              "}\n",
              "\n",
              "#sk-container-id-6 div.sk-container {\n",
              "  /* jupyter's `normalize.less` sets `[hidden] { display: none; }`\n",
              "     but bootstrap.min.css set `[hidden] { display: none !important; }`\n",
              "     so we also need the `!important` here to be able to override the\n",
              "     default hidden behavior on the sphinx rendered scikit-learn.org.\n",
              "     See: https://github.com/scikit-learn/scikit-learn/issues/21755 */\n",
              "  display: inline-block !important;\n",
              "  position: relative;\n",
              "}\n",
              "\n",
              "#sk-container-id-6 div.sk-text-repr-fallback {\n",
              "  display: none;\n",
              "}\n",
              "\n",
              "div.sk-parallel-item,\n",
              "div.sk-serial,\n",
              "div.sk-item {\n",
              "  /* draw centered vertical line to link estimators */\n",
              "  background-image: linear-gradient(var(--sklearn-color-text-on-default-background), var(--sklearn-color-text-on-default-background));\n",
              "  background-size: 2px 100%;\n",
              "  background-repeat: no-repeat;\n",
              "  background-position: center center;\n",
              "}\n",
              "\n",
              "/* Parallel-specific style estimator block */\n",
              "\n",
              "#sk-container-id-6 div.sk-parallel-item::after {\n",
              "  content: \"\";\n",
              "  width: 100%;\n",
              "  border-bottom: 2px solid var(--sklearn-color-text-on-default-background);\n",
              "  flex-grow: 1;\n",
              "}\n",
              "\n",
              "#sk-container-id-6 div.sk-parallel {\n",
              "  display: flex;\n",
              "  align-items: stretch;\n",
              "  justify-content: center;\n",
              "  background-color: var(--sklearn-color-background);\n",
              "  position: relative;\n",
              "}\n",
              "\n",
              "#sk-container-id-6 div.sk-parallel-item {\n",
              "  display: flex;\n",
              "  flex-direction: column;\n",
              "}\n",
              "\n",
              "#sk-container-id-6 div.sk-parallel-item:first-child::after {\n",
              "  align-self: flex-end;\n",
              "  width: 50%;\n",
              "}\n",
              "\n",
              "#sk-container-id-6 div.sk-parallel-item:last-child::after {\n",
              "  align-self: flex-start;\n",
              "  width: 50%;\n",
              "}\n",
              "\n",
              "#sk-container-id-6 div.sk-parallel-item:only-child::after {\n",
              "  width: 0;\n",
              "}\n",
              "\n",
              "/* Serial-specific style estimator block */\n",
              "\n",
              "#sk-container-id-6 div.sk-serial {\n",
              "  display: flex;\n",
              "  flex-direction: column;\n",
              "  align-items: center;\n",
              "  background-color: var(--sklearn-color-background);\n",
              "  padding-right: 1em;\n",
              "  padding-left: 1em;\n",
              "}\n",
              "\n",
              "\n",
              "/* Toggleable style: style used for estimator/Pipeline/ColumnTransformer box that is\n",
              "clickable and can be expanded/collapsed.\n",
              "- Pipeline and ColumnTransformer use this feature and define the default style\n",
              "- Estimators will overwrite some part of the style using the `sk-estimator` class\n",
              "*/\n",
              "\n",
              "/* Pipeline and ColumnTransformer style (default) */\n",
              "\n",
              "#sk-container-id-6 div.sk-toggleable {\n",
              "  /* Default theme specific background. It is overwritten whether we have a\n",
              "  specific estimator or a Pipeline/ColumnTransformer */\n",
              "  background-color: var(--sklearn-color-background);\n",
              "}\n",
              "\n",
              "/* Toggleable label */\n",
              "#sk-container-id-6 label.sk-toggleable__label {\n",
              "  cursor: pointer;\n",
              "  display: block;\n",
              "  width: 100%;\n",
              "  margin-bottom: 0;\n",
              "  padding: 0.5em;\n",
              "  box-sizing: border-box;\n",
              "  text-align: center;\n",
              "}\n",
              "\n",
              "#sk-container-id-6 label.sk-toggleable__label-arrow:before {\n",
              "  /* Arrow on the left of the label */\n",
              "  content: \"▸\";\n",
              "  float: left;\n",
              "  margin-right: 0.25em;\n",
              "  color: var(--sklearn-color-icon);\n",
              "}\n",
              "\n",
              "#sk-container-id-6 label.sk-toggleable__label-arrow:hover:before {\n",
              "  color: var(--sklearn-color-text);\n",
              "}\n",
              "\n",
              "/* Toggleable content - dropdown */\n",
              "\n",
              "#sk-container-id-6 div.sk-toggleable__content {\n",
              "  max-height: 0;\n",
              "  max-width: 0;\n",
              "  overflow: hidden;\n",
              "  text-align: left;\n",
              "  /* unfitted */\n",
              "  background-color: var(--sklearn-color-unfitted-level-0);\n",
              "}\n",
              "\n",
              "#sk-container-id-6 div.sk-toggleable__content.fitted {\n",
              "  /* fitted */\n",
              "  background-color: var(--sklearn-color-fitted-level-0);\n",
              "}\n",
              "\n",
              "#sk-container-id-6 div.sk-toggleable__content pre {\n",
              "  margin: 0.2em;\n",
              "  border-radius: 0.25em;\n",
              "  color: var(--sklearn-color-text);\n",
              "  /* unfitted */\n",
              "  background-color: var(--sklearn-color-unfitted-level-0);\n",
              "}\n",
              "\n",
              "#sk-container-id-6 div.sk-toggleable__content.fitted pre {\n",
              "  /* unfitted */\n",
              "  background-color: var(--sklearn-color-fitted-level-0);\n",
              "}\n",
              "\n",
              "#sk-container-id-6 input.sk-toggleable__control:checked~div.sk-toggleable__content {\n",
              "  /* Expand drop-down */\n",
              "  max-height: 200px;\n",
              "  max-width: 100%;\n",
              "  overflow: auto;\n",
              "}\n",
              "\n",
              "#sk-container-id-6 input.sk-toggleable__control:checked~label.sk-toggleable__label-arrow:before {\n",
              "  content: \"▾\";\n",
              "}\n",
              "\n",
              "/* Pipeline/ColumnTransformer-specific style */\n",
              "\n",
              "#sk-container-id-6 div.sk-label input.sk-toggleable__control:checked~label.sk-toggleable__label {\n",
              "  color: var(--sklearn-color-text);\n",
              "  background-color: var(--sklearn-color-unfitted-level-2);\n",
              "}\n",
              "\n",
              "#sk-container-id-6 div.sk-label.fitted input.sk-toggleable__control:checked~label.sk-toggleable__label {\n",
              "  background-color: var(--sklearn-color-fitted-level-2);\n",
              "}\n",
              "\n",
              "/* Estimator-specific style */\n",
              "\n",
              "/* Colorize estimator box */\n",
              "#sk-container-id-6 div.sk-estimator input.sk-toggleable__control:checked~label.sk-toggleable__label {\n",
              "  /* unfitted */\n",
              "  background-color: var(--sklearn-color-unfitted-level-2);\n",
              "}\n",
              "\n",
              "#sk-container-id-6 div.sk-estimator.fitted input.sk-toggleable__control:checked~label.sk-toggleable__label {\n",
              "  /* fitted */\n",
              "  background-color: var(--sklearn-color-fitted-level-2);\n",
              "}\n",
              "\n",
              "#sk-container-id-6 div.sk-label label.sk-toggleable__label,\n",
              "#sk-container-id-6 div.sk-label label {\n",
              "  /* The background is the default theme color */\n",
              "  color: var(--sklearn-color-text-on-default-background);\n",
              "}\n",
              "\n",
              "/* On hover, darken the color of the background */\n",
              "#sk-container-id-6 div.sk-label:hover label.sk-toggleable__label {\n",
              "  color: var(--sklearn-color-text);\n",
              "  background-color: var(--sklearn-color-unfitted-level-2);\n",
              "}\n",
              "\n",
              "/* Label box, darken color on hover, fitted */\n",
              "#sk-container-id-6 div.sk-label.fitted:hover label.sk-toggleable__label.fitted {\n",
              "  color: var(--sklearn-color-text);\n",
              "  background-color: var(--sklearn-color-fitted-level-2);\n",
              "}\n",
              "\n",
              "/* Estimator label */\n",
              "\n",
              "#sk-container-id-6 div.sk-label label {\n",
              "  font-family: monospace;\n",
              "  font-weight: bold;\n",
              "  display: inline-block;\n",
              "  line-height: 1.2em;\n",
              "}\n",
              "\n",
              "#sk-container-id-6 div.sk-label-container {\n",
              "  text-align: center;\n",
              "}\n",
              "\n",
              "/* Estimator-specific */\n",
              "#sk-container-id-6 div.sk-estimator {\n",
              "  font-family: monospace;\n",
              "  border: 1px dotted var(--sklearn-color-border-box);\n",
              "  border-radius: 0.25em;\n",
              "  box-sizing: border-box;\n",
              "  margin-bottom: 0.5em;\n",
              "  /* unfitted */\n",
              "  background-color: var(--sklearn-color-unfitted-level-0);\n",
              "}\n",
              "\n",
              "#sk-container-id-6 div.sk-estimator.fitted {\n",
              "  /* fitted */\n",
              "  background-color: var(--sklearn-color-fitted-level-0);\n",
              "}\n",
              "\n",
              "/* on hover */\n",
              "#sk-container-id-6 div.sk-estimator:hover {\n",
              "  /* unfitted */\n",
              "  background-color: var(--sklearn-color-unfitted-level-2);\n",
              "}\n",
              "\n",
              "#sk-container-id-6 div.sk-estimator.fitted:hover {\n",
              "  /* fitted */\n",
              "  background-color: var(--sklearn-color-fitted-level-2);\n",
              "}\n",
              "\n",
              "/* Specification for estimator info (e.g. \"i\" and \"?\") */\n",
              "\n",
              "/* Common style for \"i\" and \"?\" */\n",
              "\n",
              ".sk-estimator-doc-link,\n",
              "a:link.sk-estimator-doc-link,\n",
              "a:visited.sk-estimator-doc-link {\n",
              "  float: right;\n",
              "  font-size: smaller;\n",
              "  line-height: 1em;\n",
              "  font-family: monospace;\n",
              "  background-color: var(--sklearn-color-background);\n",
              "  border-radius: 1em;\n",
              "  height: 1em;\n",
              "  width: 1em;\n",
              "  text-decoration: none !important;\n",
              "  margin-left: 1ex;\n",
              "  /* unfitted */\n",
              "  border: var(--sklearn-color-unfitted-level-1) 1pt solid;\n",
              "  color: var(--sklearn-color-unfitted-level-1);\n",
              "}\n",
              "\n",
              ".sk-estimator-doc-link.fitted,\n",
              "a:link.sk-estimator-doc-link.fitted,\n",
              "a:visited.sk-estimator-doc-link.fitted {\n",
              "  /* fitted */\n",
              "  border: var(--sklearn-color-fitted-level-1) 1pt solid;\n",
              "  color: var(--sklearn-color-fitted-level-1);\n",
              "}\n",
              "\n",
              "/* On hover */\n",
              "div.sk-estimator:hover .sk-estimator-doc-link:hover,\n",
              ".sk-estimator-doc-link:hover,\n",
              "div.sk-label-container:hover .sk-estimator-doc-link:hover,\n",
              ".sk-estimator-doc-link:hover {\n",
              "  /* unfitted */\n",
              "  background-color: var(--sklearn-color-unfitted-level-3);\n",
              "  color: var(--sklearn-color-background);\n",
              "  text-decoration: none;\n",
              "}\n",
              "\n",
              "div.sk-estimator.fitted:hover .sk-estimator-doc-link.fitted:hover,\n",
              ".sk-estimator-doc-link.fitted:hover,\n",
              "div.sk-label-container:hover .sk-estimator-doc-link.fitted:hover,\n",
              ".sk-estimator-doc-link.fitted:hover {\n",
              "  /* fitted */\n",
              "  background-color: var(--sklearn-color-fitted-level-3);\n",
              "  color: var(--sklearn-color-background);\n",
              "  text-decoration: none;\n",
              "}\n",
              "\n",
              "/* Span, style for the box shown on hovering the info icon */\n",
              ".sk-estimator-doc-link span {\n",
              "  display: none;\n",
              "  z-index: 9999;\n",
              "  position: relative;\n",
              "  font-weight: normal;\n",
              "  right: .2ex;\n",
              "  padding: .5ex;\n",
              "  margin: .5ex;\n",
              "  width: min-content;\n",
              "  min-width: 20ex;\n",
              "  max-width: 50ex;\n",
              "  color: var(--sklearn-color-text);\n",
              "  box-shadow: 2pt 2pt 4pt #999;\n",
              "  /* unfitted */\n",
              "  background: var(--sklearn-color-unfitted-level-0);\n",
              "  border: .5pt solid var(--sklearn-color-unfitted-level-3);\n",
              "}\n",
              "\n",
              ".sk-estimator-doc-link.fitted span {\n",
              "  /* fitted */\n",
              "  background: var(--sklearn-color-fitted-level-0);\n",
              "  border: var(--sklearn-color-fitted-level-3);\n",
              "}\n",
              "\n",
              ".sk-estimator-doc-link:hover span {\n",
              "  display: block;\n",
              "}\n",
              "\n",
              "/* \"?\"-specific style due to the `<a>` HTML tag */\n",
              "\n",
              "#sk-container-id-6 a.estimator_doc_link {\n",
              "  float: right;\n",
              "  font-size: 1rem;\n",
              "  line-height: 1em;\n",
              "  font-family: monospace;\n",
              "  background-color: var(--sklearn-color-background);\n",
              "  border-radius: 1rem;\n",
              "  height: 1rem;\n",
              "  width: 1rem;\n",
              "  text-decoration: none;\n",
              "  /* unfitted */\n",
              "  color: var(--sklearn-color-unfitted-level-1);\n",
              "  border: var(--sklearn-color-unfitted-level-1) 1pt solid;\n",
              "}\n",
              "\n",
              "#sk-container-id-6 a.estimator_doc_link.fitted {\n",
              "  /* fitted */\n",
              "  border: var(--sklearn-color-fitted-level-1) 1pt solid;\n",
              "  color: var(--sklearn-color-fitted-level-1);\n",
              "}\n",
              "\n",
              "/* On hover */\n",
              "#sk-container-id-6 a.estimator_doc_link:hover {\n",
              "  /* unfitted */\n",
              "  background-color: var(--sklearn-color-unfitted-level-3);\n",
              "  color: var(--sklearn-color-background);\n",
              "  text-decoration: none;\n",
              "}\n",
              "\n",
              "#sk-container-id-6 a.estimator_doc_link.fitted:hover {\n",
              "  /* fitted */\n",
              "  background-color: var(--sklearn-color-fitted-level-3);\n",
              "}\n",
              "</style><div id=\"sk-container-id-6\" class=\"sk-top-container\"><div class=\"sk-text-repr-fallback\"><pre>MultinomialNB()</pre><b>In a Jupyter environment, please rerun this cell to show the HTML representation or trust the notebook. <br />On GitHub, the HTML representation is unable to render, please try loading this page with nbviewer.org.</b></div><div class=\"sk-container\" hidden><div class=\"sk-item\"><div class=\"sk-estimator fitted sk-toggleable\"><input class=\"sk-toggleable__control sk-hidden--visually\" id=\"sk-estimator-id-6\" type=\"checkbox\" checked><label for=\"sk-estimator-id-6\" class=\"sk-toggleable__label fitted sk-toggleable__label-arrow fitted\">&nbsp;&nbsp;MultinomialNB<a class=\"sk-estimator-doc-link fitted\" rel=\"noreferrer\" target=\"_blank\" href=\"https://scikit-learn.org/1.5/modules/generated/sklearn.naive_bayes.MultinomialNB.html\">?<span>Documentation for MultinomialNB</span></a><span class=\"sk-estimator-doc-link fitted\">i<span>Fitted</span></span></label><div class=\"sk-toggleable__content fitted\"><pre>MultinomialNB()</pre></div> </div></div></div></div>"
            ]
          },
          "metadata": {},
          "execution_count": 236
        }
      ]
    },
    {
      "cell_type": "markdown",
      "source": [
        "16. Train the model using `.fit()`"
      ],
      "metadata": {
        "id": "sQ-o0zS0iip8"
      }
    },
    {
      "cell_type": "code",
      "source": [
        "\n",
        "\n",
        "\n",
        "data = pd.read_csv(\"hf://datasets/mapsoriano/2016_2022_hate_speech_filipino/\" + splits[\"train\"])\n",
        "\n",
        "\n",
        "X = data['text']\n",
        "y = data['label']\n",
        "\n",
        "\n",
        "X_train, X_test, y_train, y_test = train_test_split(X, y, test_size=0.2, random_state=42)\n",
        "\n",
        "\n",
        "vectorizer = CountVectorizer()\n",
        "X_train_transformed = vectorizer.fit_transform(X_train)\n",
        "\n",
        "\n",
        "model = MultinomialNB()\n",
        "\n",
        "model.fit(X_train_transformed, y_train)\n",
        "\n",
        "\n",
        "print(\"Model training completed.\")\n"
      ],
      "metadata": {
        "id": "18taO8Uxii5Q",
        "colab": {
          "base_uri": "https://localhost:8080/"
        },
        "outputId": "0bf55580-4535-4339-aa88-dcf456647b9c"
      },
      "execution_count": 237,
      "outputs": [
        {
          "output_type": "stream",
          "name": "stdout",
          "text": [
            "Model training completed.\n"
          ]
        }
      ]
    },
    {
      "cell_type": "markdown",
      "source": [
        "## D. Evaluate your model"
      ],
      "metadata": {
        "id": "InwOEEdjjPXS"
      }
    },
    {
      "cell_type": "markdown",
      "source": [
        "17. Use `.predict()` to generate model predictions using the **validation dataset**\n",
        "\n",
        "\n",
        "- Put all text validation data in **X_validation** variable\n",
        "\n",
        "- Convert **X_validation** to its numerical form.\n",
        "\n",
        "- Put the converted data to **X_validation_transformed**\n",
        "\n",
        "- Put all predictions in **y_validation_pred** variable"
      ],
      "metadata": {
        "id": "eDw6zehFizeY"
      }
    },
    {
      "cell_type": "code",
      "source": [
        "\n",
        "data = pd.read_csv(\"hf://datasets/mapsoriano/2016_2022_hate_speech_filipino/\" + splits[\"train\"])\n",
        "\n",
        "\n",
        "X = data['text']\n",
        "y = data['label']\n",
        "\n",
        "X_train, X_validation, y_train, y_validation = train_test_split(X, y, test_size=0.2, random_state=42)\n",
        "\n",
        "vectorizer = CountVectorizer()\n",
        "X_train_transformed = vectorizer.fit_transform(X_train)\n",
        "\n",
        "model = MultinomialNB()\n",
        "\n",
        "model.fit(X_train_transformed, y_train)\n",
        "\n",
        "\n",
        "X_validation = X_validation\n",
        "\n",
        "X_validation_transformed = vectorizer.transform(X_validation)\n",
        "\n",
        "\n",
        "y_validation_pred = model.predict(X_validation_transformed)\n",
        "\n",
        "\n",
        "print(\"Predictions for validation data (first 5 rows):\")\n",
        "print(y_validation_pred[:5])\n"
      ],
      "metadata": {
        "id": "I_HnXR5Mi6wG",
        "colab": {
          "base_uri": "https://localhost:8080/"
        },
        "outputId": "0e8a021a-1b6f-4154-c463-a58df7d19c2e"
      },
      "execution_count": 238,
      "outputs": [
        {
          "output_type": "stream",
          "name": "stdout",
          "text": [
            "Predictions for validation data (first 5 rows):\n",
            "[0 1 1 1 1]\n"
          ]
        }
      ]
    },
    {
      "cell_type": "markdown",
      "source": [
        "18. Get the Accuracy, Precision, Recall and F1-Score of the model using the **validation dataset**\n",
        "\n",
        "- Put all validation data labels in **y_validation** variable"
      ],
      "metadata": {
        "id": "c4Vysvx0i7o7"
      }
    },
    {
      "cell_type": "code",
      "source": [
        "\n",
        "\n",
        "\n",
        "data = pd.read_csv(\"hf://datasets/mapsoriano/2016_2022_hate_speech_filipino/\" + splits[\"train\"])\n",
        "\n",
        "\n",
        "X = data['text']\n",
        "y = data['label']\n",
        "\n",
        "X_train, X_validation, y_train, y_validation = train_test_split(X, y, test_size=0.2, random_state=42)\n",
        "\n",
        "\n",
        "vectorizer = CountVectorizer()\n",
        "X_train_transformed = vectorizer.fit_transform(X_train)\n",
        "\n",
        "\n",
        "model = MultinomialNB()\n",
        "model.fit(X_train_transformed, y_train)\n",
        "\n",
        "\n",
        "X_validation_transformed = vectorizer.transform(X_validation)\n",
        "\n",
        "\n",
        "y_validation_pred = model.predict(X_validation_transformed)\n",
        "\n",
        "\n",
        "y_validation = y_validation\n",
        "\n",
        "\n",
        "accuracy = accuracy_score(y_validation, y_validation_pred)\n",
        "precision = precision_score(y_validation, y_validation_pred)\n",
        "recall = recall_score(y_validation, y_validation_pred)\n",
        "f1 = f1_score(y_validation, y_validation_pred)\n",
        "\n",
        "\n",
        "print(\"Accuracy:\", accuracy)\n",
        "print(\"Precision:\", precision)\n",
        "print(\"Recall:\", recall)\n",
        "print(\"F1-Score:\", f1)\n"
      ],
      "metadata": {
        "id": "qTOquylLjEYg",
        "colab": {
          "base_uri": "https://localhost:8080/"
        },
        "outputId": "61e69b3d-14c0-48ec-8c75-d42716ba9b8d"
      },
      "execution_count": 239,
      "outputs": [
        {
          "output_type": "stream",
          "name": "stdout",
          "text": [
            "Accuracy: 0.8351320321469575\n",
            "Precision: 0.8214592274678112\n",
            "Recall: 0.8637184115523465\n",
            "F1-Score: 0.8420589529256489\n"
          ]
        }
      ]
    },
    {
      "cell_type": "markdown",
      "source": [
        "19. Create a confusion matrix using the **validation dataset**"
      ],
      "metadata": {
        "id": "hnHNHWXUjGa6"
      }
    },
    {
      "cell_type": "code",
      "source": [
        "\n",
        "\n",
        "data = pd.read_csv(\"hf://datasets/mapsoriano/2016_2022_hate_speech_filipino/\" + splits[\"train\"])\n",
        "\n",
        "X = data['text']\n",
        "y = data['label']\n",
        "\n",
        "\n",
        "X_train, X_validation, y_train, y_validation = train_test_split(X, y, test_size=0.2, random_state=42)\n",
        "\n",
        "vectorizer = CountVectorizer()\n",
        "X_train_transformed = vectorizer.fit_transform(X_train)\n",
        "\n",
        "model = MultinomialNB()\n",
        "model.fit(X_train_transformed, y_train)\n",
        "\n",
        "\n",
        "X_validation_transformed = vectorizer.transform(X_validation)\n",
        "\n",
        "\n",
        "y_validation_pred = model.predict(X_validation_transformed)\n",
        "\n",
        "\n",
        "cm = confusion_matrix(y_validation, y_validation_pred)\n",
        "\n",
        "\n",
        "cmd = ConfusionMatrixDisplay(cm, display_labels=model.classes_)\n",
        "cmd.plot(cmap=plt.cm.Blues)\n",
        "plt.title('Confusion Matrix')\n",
        "plt.show()\n"
      ],
      "metadata": {
        "id": "rHNBIJgJjIrw",
        "colab": {
          "base_uri": "https://localhost:8080/",
          "height": 472
        },
        "outputId": "477dcb70-d6d4-4dc6-c844-164ed1507f48"
      },
      "execution_count": 240,
      "outputs": [
        {
          "output_type": "display_data",
          "data": {
            "text/plain": [
              "<Figure size 640x480 with 2 Axes>"
            ],
            "image/png": "[encoded data removed]"
          },
          "metadata": {}
        }
      ]
    },
    {
      "cell_type": "markdown",
      "source": [
        "20. Use `.predict()` to generate the model predictions using the **test dataset**\n",
        "\n",
        "\n",
        "- Put all text validation data in **X_test** variable\n",
        "\n",
        "- Convert **X_test** to its numerical form.\n",
        "\n",
        "- Put the converted data to **X_test_transformed**\n",
        "\n",
        "- Put all predictions in **y_test_pred** variable"
      ],
      "metadata": {
        "id": "551pFLGwjJq5"
      }
    },
    {
      "cell_type": "code",
      "source": [
        "\n",
        "\n",
        "data = pd.read_csv(\"hf://datasets/mapsoriano/2016_2022_hate_speech_filipino/\" + splits[\"train\"])\n",
        "\n",
        "\n",
        "X = data['text']\n",
        "y = data['label']\n",
        "\n",
        "X_train, X_test, y_train, y_test = train_test_split(X, y, test_size=0.2, random_state=42)\n",
        "\n",
        "\n",
        "vectorizer = CountVectorizer()\n",
        "X_train_transformed = vectorizer.fit_transform(X_train)\n",
        "\n",
        "\n",
        "model = MultinomialNB()\n",
        "model.fit(X_train_transformed, y_train)\n",
        "\n",
        "\n",
        "X_test = X_test\n",
        "\n",
        "X_test_transformed = vectorizer.transform(X_test)\n",
        "\n",
        "\n",
        "y_test_pred = model.predict(X_test_transformed)\n",
        "\n",
        "\n",
        "print(\"Predictions for test data (first 5 rows):\")\n",
        "print(y_test_pred[:5])\n"
      ],
      "metadata": {
        "id": "PGAop3xvjZo6",
        "colab": {
          "base_uri": "https://localhost:8080/"
        },
        "outputId": "5d52d2d5-b65c-4c0d-b937-eeecf0942e5d"
      },
      "execution_count": 241,
      "outputs": [
        {
          "output_type": "stream",
          "name": "stdout",
          "text": [
            "Predictions for test data (first 5 rows):\n",
            "[0 1 1 1 1]\n"
          ]
        }
      ]
    },
    {
      "cell_type": "markdown",
      "source": [
        "21. Get the Accuracy, Precision, Recall and F1-Score of the model using the **test dataset**\n",
        "\n",
        "- Put all test data labels in **y_validation** variable\n",
        "\n"
      ],
      "metadata": {
        "id": "WYA239MGjZ-0"
      }
    },
    {
      "cell_type": "code",
      "source": [
        "\n",
        "data = pd.read_csv(\"hf://datasets/mapsoriano/2016_2022_hate_speech_filipino/\" + splits[\"train\"])\n",
        "\n",
        "\n",
        "X = data['text']\n",
        "y = data['label']\n",
        "\n",
        "\n",
        "X_train, X_test, y_train, y_test = train_test_split(X, y, test_size=0.2, random_state=42)\n",
        "\n",
        "\n",
        "vectorizer = CountVectorizer()\n",
        "X_train_transformed = vectorizer.fit_transform(X_train)\n",
        "\n",
        "\n",
        "model = MultinomialNB()\n",
        "model.fit(X_train_transformed, y_train)\n",
        "\n",
        "\n",
        "X_test_transformed = vectorizer.transform(X_test)\n",
        "\n",
        "\n",
        "y_test_pred = model.predict(X_test_transformed)\n",
        "\n",
        "y_validation = y_test\n",
        "\n",
        "\n",
        "accuracy = accuracy_score(y_validation, y_test_pred)\n",
        "precision = precision_score(y_validation, y_test_pred)\n",
        "recall = recall_score(y_validation, y_test_pred)\n",
        "f1 = f1_score(y_validation, y_test_pred)\n",
        "\n",
        "\n",
        "print(\"Accuracy:\", accuracy)\n",
        "print(\"Precision:\", precision)\n",
        "print(\"Recall:\", recall)\n",
        "print(\"F1-Score:\", f1)\n"
      ],
      "metadata": {
        "id": "cbEG7T4Gjfje",
        "colab": {
          "base_uri": "https://localhost:8080/"
        },
        "outputId": "29856b7f-7e24-44d8-8422-4cc6f9b4393c"
      },
      "execution_count": 242,
      "outputs": [
        {
          "output_type": "stream",
          "name": "stdout",
          "text": [
            "Accuracy: 0.8351320321469575\n",
            "Precision: 0.8214592274678112\n",
            "Recall: 0.8637184115523465\n",
            "F1-Score: 0.8420589529256489\n"
          ]
        }
      ]
    },
    {
      "cell_type": "markdown",
      "source": [
        "22. Create a confusion matrix using the **test dataset**"
      ],
      "metadata": {
        "id": "aA5_85ZXjgaz"
      }
    },
    {
      "cell_type": "code",
      "source": [
        "\n",
        "data = pd.read_csv(\"hf://datasets/mapsoriano/2016_2022_hate_speech_filipino/\" + splits[\"train\"])\n",
        "\n",
        "X = data['text']\n",
        "y = data['label']\n",
        "\n",
        "X_train, X_test, y_train, y_test = train_test_split(X, y, test_size=0.2, random_state=42)\n",
        "\n",
        "\n",
        "vectorizer = CountVectorizer()\n",
        "X_train_transformed = vectorizer.fit_transform(X_train)\n",
        "\n",
        "\n",
        "model = MultinomialNB()\n",
        "model.fit(X_train_transformed, y_train)\n",
        "\n",
        "\n",
        "X_test_transformed = vectorizer.transform(X_test)\n",
        "\n",
        "\n",
        "y_test_pred = model.predict(X_test_transformed)\n",
        "\n",
        "\n",
        "cm = confusion_matrix(y_test, y_test_pred)\n",
        "\n",
        "\n",
        "cmd = ConfusionMatrixDisplay(cm, display_labels=model.classes_)\n",
        "cmd.plot(cmap=plt.cm.Blues)\n",
        "plt.title('Confusion Matrix')\n",
        "plt.show()\n"
      ],
      "metadata": {
        "id": "BklrKazHji3L",
        "colab": {
          "base_uri": "https://localhost:8080/",
          "height": 472
        },
        "outputId": "ce9ce45b-627a-4305-e6a1-5fada9811421"
      },
      "execution_count": 243,
      "outputs": [
        {
          "output_type": "display_data",
          "data": {
            "text/plain": [
              "<Figure size 640x480 with 2 Axes>"
            ],
            "image/png": "[encoded data removed]"
          },
          "metadata": {}
        }
      ]
    },
    {
      "cell_type": "markdown",
      "source": [
        "## E. Test the model"
      ],
      "metadata": {
        "id": "yXT84y4upMOT"
      }
    },
    {
      "cell_type": "markdown",
      "source": [
        "23. Test the model by providing a non-hate speech input. The model should predict it as 0"
      ],
      "metadata": {
        "id": "FYtlFiBkpQHx"
      }
    },
    {
      "cell_type": "code",
      "source": [
        "\n",
        "non_hate_speech_input = [\"i love you\"]\n",
        "\n",
        "\n",
        "X_input_transformed = vectorizer.transform(non_hate_speech_input)\n",
        "\n",
        "\n",
        "prediction = model.predict(X_input_transformed)\n",
        "\n",
        "print(\"Prediction for the non-hate speech input:\", prediction[0])\n"
      ],
      "metadata": {
        "id": "UlzOfYeBpgTH",
        "colab": {
          "base_uri": "https://localhost:8080/"
        },
        "outputId": "8d8f7905-24ae-4a39-bbcc-11d8f0c3bf0c"
      },
      "execution_count": 246,
      "outputs": [
        {
          "output_type": "stream",
          "name": "stdout",
          "text": [
            "Prediction for the non-hate speech input: 0\n"
          ]
        }
      ]
    },
    {
      "cell_type": "markdown",
      "source": [
        "24. Test the model by providing a hate speech input. The model should predict it as 1"
      ],
      "metadata": {
        "id": "4I9Y0_JiphfC"
      }
    },
    {
      "cell_type": "code",
      "source": [
        "\n",
        "hate_speech_input = [\"kupal ka ata eh\"]\n",
        "\n",
        "X_input_transformed = vectorizer.transform(hate_speech_input)\n",
        "\n",
        "\n",
        "prediction = model.predict(X_input_transformed)\n",
        "\n",
        "\n",
        "print(\"Prediction for the hate speech input:\", prediction[0])\n"
      ],
      "metadata": {
        "id": "xsMkt3CKphwr",
        "colab": {
          "base_uri": "https://localhost:8080/"
        },
        "outputId": "b77d5889-739b-48cf-8ede-08ab8b28622b"
      },
      "execution_count": 248,
      "outputs": [
        {
          "output_type": "stream",
          "name": "stdout",
          "text": [
            "Prediction for the hate speech input: 1\n"
          ]
        }
      ]
    },
    {
      "cell_type": "code",
      "source": [],
      "metadata": {
        "id": "PDNLOReiK25v"
      },
      "execution_count": 245,
      "outputs": []
    }
  ]
}